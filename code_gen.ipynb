{
 "cells": [
  {
   "cell_type": "code",
   "execution_count": 1,
   "metadata": {},
   "outputs": [
    {
     "name": "stderr",
     "output_type": "stream",
     "text": [
      "USER_AGENT environment variable not set, consider setting it to identify your requests.\n"
     ]
    }
   ],
   "source": [
    "from langchain_groq import ChatGroq\n",
    "from langchain_community.document_loaders import WebBaseLoader\n",
    "from langchain_core.prompts import PromptTemplate\n",
    "from langchain_core.output_parsers import JsonOutputParser\n",
    "\n",
    "llm = ChatGroq(\n",
    "    model='llama-3.1-70b-versatile',\n",
    "    temperature= 0,\n",
    "    groq_api_key='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'\n",
    "\n",
    ")\n",
    "result = llm.invoke('hello')\n",
    "loader = WebBaseLoader('https://jobs.nike.com/job/R-46907?from=job%20search%20funnel')\n",
    "page_data=loader.load().pop().page_content\n",
    "#print(page_data)\n",
    "prompt_extract= PromptTemplate.from_template(\n",
    "    \"\"\"\n",
    "    ### SCRAPED TEXT FROM WEBSITE:\n",
    "    {page_data}\n",
    "    ### INSTRUCTOR:\n",
    "    The scraped text is from the career's page of a website.\n",
    "    Your job is to extract the job postings and return them in JSON format containing thr following keys:\n",
    "    'role', 'experience', 'skills' and 'description'.\n",
    "    Only return the valid JSON.\n",
    "    ### VALID JSON ( NO PREAMBLE OR MARKDOWN FORMAT):\n",
    "    \"\"\"\n",
    ")\n",
    "chain_extract= prompt_extract | llm\n",
    "res = chain_extract.invoke(input={'page_data':page_data})\n",
    "#print(res.content)\n"
   ]
  },
  {
   "cell_type": "code",
   "execution_count": 2,
   "metadata": {},
   "outputs": [
    {
     "data": {
      "text/plain": [
       "[{'role': 'Lead Software Engineer - 3D Pipeline',\n",
       "  'experience': '8+ years of experience in 3D pipeline development and tool creation, with a proven track record of technical leadership and team management',\n",
       "  'skills': ['Python',\n",
       "   'C++',\n",
       "   '3D graphics principles',\n",
       "   'animation',\n",
       "   'visualization technologies',\n",
       "   'real-time rendering',\n",
       "   'Maya',\n",
       "   '3ds Max',\n",
       "   'Houdini',\n",
       "   'Blender',\n",
       "   'Unreal Engine',\n",
       "   'Unity'],\n",
       "  'description': 'We are seeking a highly experienced and visionary Lead 3D Pipeline Engineer to spearhead our 3D pipeline development and innovation within the CP&I team at Nike. In this leadership role, you will not only possess deep technical expertise but also demonstrate exceptional strategic thinking and team management skills.'}]"
      ]
     },
     "execution_count": 2,
     "metadata": {},
     "output_type": "execute_result"
    }
   ],
   "source": [
    "\n",
    "json_parser = JsonOutputParser()\n",
    "json_res=json_parser.parse(res.content)\n",
    "json_res\n"
   ]
  },
  {
   "cell_type": "code",
   "execution_count": 5,
   "metadata": {},
   "outputs": [
    {
     "data": {
      "text/html": [
       "<div>\n",
       "<style scoped>\n",
       "    .dataframe tbody tr th:only-of-type {\n",
       "        vertical-align: middle;\n",
       "    }\n",
       "\n",
       "    .dataframe tbody tr th {\n",
       "        vertical-align: top;\n",
       "    }\n",
       "\n",
       "    .dataframe thead th {\n",
       "        text-align: right;\n",
       "    }\n",
       "</style>\n",
       "<table border=\"1\" class=\"dataframe\">\n",
       "  <thead>\n",
       "    <tr style=\"text-align: right;\">\n",
       "      <th></th>\n",
       "      <th>Techstack</th>\n",
       "      <th>Links</th>\n",
       "    </tr>\n",
       "  </thead>\n",
       "  <tbody>\n",
       "    <tr>\n",
       "      <th>0</th>\n",
       "      <td>React, Node.js, MongoDB</td>\n",
       "      <td>https://example.com/react-portfolio</td>\n",
       "    </tr>\n",
       "    <tr>\n",
       "      <th>1</th>\n",
       "      <td>Angular,.NET, SQL Server</td>\n",
       "      <td>https://example.com/angular-portfolio</td>\n",
       "    </tr>\n",
       "    <tr>\n",
       "      <th>2</th>\n",
       "      <td>Vue.js, Ruby on Rails, PostgreSQL</td>\n",
       "      <td>https://example.com/vue-portfolio</td>\n",
       "    </tr>\n",
       "    <tr>\n",
       "      <th>3</th>\n",
       "      <td>Python, Django, MySQL</td>\n",
       "      <td>https://example.com/python-portfolio</td>\n",
       "    </tr>\n",
       "    <tr>\n",
       "      <th>4</th>\n",
       "      <td>Java, Spring Boot, Oracle</td>\n",
       "      <td>https://example.com/java-portfolio</td>\n",
       "    </tr>\n",
       "  </tbody>\n",
       "</table>\n",
       "</div>"
      ],
      "text/plain": [
       "                           Techstack                                  Links\n",
       "0            React, Node.js, MongoDB    https://example.com/react-portfolio\n",
       "1           Angular,.NET, SQL Server  https://example.com/angular-portfolio\n",
       "2  Vue.js, Ruby on Rails, PostgreSQL      https://example.com/vue-portfolio\n",
       "3              Python, Django, MySQL   https://example.com/python-portfolio\n",
       "4          Java, Spring Boot, Oracle     https://example.com/java-portfolio"
      ]
     },
     "execution_count": 5,
     "metadata": {},
     "output_type": "execute_result"
    }
   ],
   "source": [
    "import pandas as pd\n",
    "df = pd.read_csv('x.csv')\n",
    "df.head()"
   ]
  },
  {
   "cell_type": "code",
   "execution_count": 20,
   "metadata": {},
   "outputs": [],
   "source": [
    "import uuid\n",
    "import chromadb\n",
    "client = chromadb.PersistentClient('vectorstore')\n",
    "collection = client.get_or_create_collection(name='portfolio')\n",
    "if not collection.count():\n",
    "    for _, row in df.iterrows():\n",
    "        collection.add(documents=row['Techstack'],\n",
    "                        metadatas={'links': row['Links']},\n",
    "                        ids= [str(uuid.uuid4())])\n"
   ]
  },
  {
   "cell_type": "code",
   "execution_count": 23,
   "metadata": {},
   "outputs": [
    {
     "data": {
      "text/plain": [
       "[{'links': 'https://example.com/ml-python-portfolio'},\n",
       " {'links': 'https://example.com/python-portfolio'}]"
      ]
     },
     "execution_count": 23,
     "metadata": {},
     "output_type": "execute_result"
    }
   ],
   "source": [
    "links = collection.query(query_texts=job['skills'],n_results=2).get('metadatas')\n",
    "links= links[0][:2]\n",
    "links"
   ]
  },
  {
   "cell_type": "code",
   "execution_count": 19,
   "metadata": {},
   "outputs": [
    {
     "data": {
      "text/plain": [
       "['Python',\n",
       " 'C++',\n",
       " '3D graphics principles',\n",
       " 'animation',\n",
       " 'visualization technologies',\n",
       " 'real-time rendering',\n",
       " 'Maya',\n",
       " '3ds Max',\n",
       " 'Houdini',\n",
       " 'Blender',\n",
       " 'Unreal Engine',\n",
       " 'Unity']"
      ]
     },
     "execution_count": 19,
     "metadata": {},
     "output_type": "execute_result"
    }
   ],
   "source": [
    "job =  json_res[0]\n",
    "job['skills']"
   ]
  },
  {
   "cell_type": "code",
   "execution_count": 24,
   "metadata": {},
   "outputs": [
    {
     "name": "stdout",
     "output_type": "stream",
     "text": [
      "Subject: Expert 3D Pipeline Development Solutions for Nike's CP&I Team\n",
      "\n",
      "Dear Hiring Manager,\n",
      "\n",
      "I came across the job posting for a Lead Software Engineer - 3D Pipeline at Nike, and I'm excited to introduce AtliQ, an AI & Software Consulting company that can help you achieve your 3D pipeline development goals. With our expertise in creating tailored solutions, we can facilitate the seamless integration of your business processes through automated tools.\n",
      "\n",
      "Our team at AtliQ has extensive experience in developing innovative solutions using Python, C++, and various visualization technologies. We've worked on numerous projects that involve 3D graphics principles, animation, and real-time rendering. Our expertise in tools like Maya, 3ds Max, Houdini, Blender, Unreal Engine, and Unity can help you streamline your 3D pipeline development.\n",
      "\n",
      "As a visionary Lead 3D Pipeline Engineer, you're looking for a partner that can help you spearhead innovation within the CP&I team at Nike. AtliQ can be that partner. We've empowered numerous enterprises with our solutions, fostering scalability, process optimization, cost reduction, and heightened overall efficiency.\n",
      "\n",
      "To give you a glimpse of our capabilities, I'd like to share some of our relevant portfolio links:\n",
      "\n",
      "- https://example.com/ml-python-portfolio (Machine Learning and Python-based solutions)\n",
      "- https://example.com/python-portfolio (Python-based solutions for various industries)\n",
      "\n",
      "These links showcase our expertise in developing cutting-edge solutions using Python and other technologies. I believe our team can help you achieve your goals and drive innovation within the CP&I team at Nike.\n",
      "\n",
      "I'd love to schedule a call to discuss how AtliQ can help you fulfill your needs. Please let me know if you're available for a quick call this week.\n",
      "\n",
      "Best regards,\n",
      "\n",
      "Mohan\n",
      "Business Development Executive\n",
      "AtliQ\n"
     ]
    }
   ],
   "source": [
    "prompt_email= PromptTemplate.from_template(\n",
    "        \"\"\"\n",
    "        ### JOB DESCRIPTION:\n",
    "        {job_description}\n",
    "        \n",
    "        ### INSTRUCTION:\n",
    "        You are Mohan, a business development executive at AtliQ. AtliQ is an AI & Software Consulting company dedicated to facilitating\n",
    "        the seamless integration of business processes through automated tools. \n",
    "        Over our experience, we have empowered numerous enterprises with tailored solutions, fostering scalability, \n",
    "        process optimization, cost reduction, and heightened overall efficiency. \n",
    "        Your job is to write a cold email to the client regarding the job mentioned above describing the capability of AtliQ \n",
    "        in fulfilling their needs.\n",
    "        Also add the most relevant ones from the following links to showcase Atliq's portfolio: {link_list}\n",
    "        Remember you are Mohan, BDE at AtliQ. \n",
    "        Do not provide a preamble.\n",
    "        ### EMAIL (NO PREAMBLE):\n",
    "        \n",
    "        \"\"\"\n",
    ")\n",
    "chain_email = prompt_email | llm\n",
    "res =chain_email.invoke({'job_description': job, 'link_list': links})\n",
    "print(res.content)"
   ]
  },
  {
   "cell_type": "code",
   "execution_count": null,
   "metadata": {},
   "outputs": [],
   "source": []
  }
 ],
 "metadata": {
  "kernelspec": {
   "display_name": ".env",
   "language": "python",
   "name": "python3"
  },
  "language_info": {
   "codemirror_mode": {
    "name": "ipython",
    "version": 3
   },
   "file_extension": ".py",
   "mimetype": "text/x-python",
   "name": "python",
   "nbconvert_exporter": "python",
   "pygments_lexer": "ipython3",
   "version": "3.11.5"
  }
 },
 "nbformat": 4,
 "nbformat_minor": 2
}
